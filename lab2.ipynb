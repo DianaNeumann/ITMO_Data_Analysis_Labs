{
  "nbformat": 4,
  "nbformat_minor": 0,
  "metadata": {
    "colab": {
      "provenance": [],
      "collapsed_sections": []
    },
    "kernelspec": {
      "name": "python3",
      "display_name": "Python 3"
    },
    "language_info": {
      "name": "python"
    }
  },
  "cells": [
    {
      "cell_type": "markdown",
      "metadata": {
        "id": "1gxRZ_lI-4Da"
      },
      "source": [
        "###Задание"
      ]
    },
    {
      "cell_type": "markdown",
      "metadata": {
        "id": "_Atec9Uy_CYJ"
      },
      "source": [
        "1) Запустить ячейку ниже, чтобы получить 2 жанра. Для полученных жанров провести все этапы предварительной обработки текста (как в примере), обучить наивный байесовский классификатор, численно оценить его работу."
      ]
    },
    {
      "cell_type": "code",
      "metadata": {
        "id": "XxkZ901zyLPQ",
        "colab": {
          "base_uri": "https://localhost:8080/"
        },
        "outputId": "4dc193db-92f4-455f-a439-a6aa166ea4c2"
      },
      "source": [
        " import random \n",
        " lst = ['Christian', 'Country', 'Pop', 'Rock', 'R&B'] \n",
        " print('ваши жанры', random.choice(lst), 'и', random.choice(lst)) "
      ],
      "execution_count": null,
      "outputs": [
        {
          "output_type": "stream",
          "name": "stdout",
          "text": [
            "ваши жанры Pop и R&B\n"
          ]
        }
      ]
    },
    {
      "cell_type": "markdown",
      "source": [
        "[Выпали Pop и R&B]"
      ],
      "metadata": {
        "id": "EEAZmtxxle1x"
      }
    },
    {
      "cell_type": "markdown",
      "metadata": {
        "id": "CNAI2TMBxMDH"
      },
      "source": [
        "Для улучшения качества обучения модели можно попробовать избавиться от знаков препинания и проследить, чтобы процентное соотношение песен обоих жанров было примерно 50 на 50"
      ]
    },
    {
      "cell_type": "markdown",
      "metadata": {
        "id": "bWdnLBHf_onv"
      },
      "source": [
        "2) Найти (нагуглить) по песне каждого из жанров, которые Вам достались, после необходимой обработки их текстов определить жанр обеих песен с помощью обученной в ходе выполнения предыдущего пункта модели."
      ]
    },
    {
      "cell_type": "markdown",
      "metadata": {
        "id": "WtmpuwX6AZy6"
      },
      "source": [
        "3) С помощью набора данных по ссылке аналогичным образом научить модель отличать тексты песен Дэвида Боуи от текстов песен Пола МакКартни \n",
        "https://www.kaggle.com/italomarcelo/dataset-lyrics-music-mini"
      ]
    },
    {
      "cell_type": "markdown",
      "source": [
        "<h1> Лабораторная 2 </h1>"
      ],
      "metadata": {
        "id": "b-NIvlg4tEWk"
      }
    },
    {
      "cell_type": "markdown",
      "source": [
        "# 1 Задание"
      ],
      "metadata": {
        "id": "gVHaBmzsca8V"
      }
    },
    {
      "cell_type": "markdown",
      "source": [
        "Импорт модулей и подключение к гугл диску"
      ],
      "metadata": {
        "id": "M921gqoatnQT"
      }
    },
    {
      "cell_type": "code",
      "source": [
        "import pandas as pd\n",
        "import numpy as np\n",
        "import random\n",
        "import nltk\n",
        "import sklearn\n",
        "\n",
        "from pydrive.auth import GoogleAuth\n",
        "from pydrive.drive import GoogleDrive\n",
        "from google.colab import auth\n",
        "from oauth2client.client import GoogleCredentials\n",
        "\n",
        "from sklearn.metrics import * \n",
        "from sklearn.model_selection import train_test_split\n",
        "from sklearn.feature_extraction.text import CountVectorizer\n",
        "from sklearn.naive_bayes import MultinomialNB\n",
        "\n",
        "from nltk.tokenize import word_tokenize\n",
        "from nltk.corpus import stopwords\n",
        "from nltk.stem import WordNetLemmatizer \n",
        "\n",
        "nltk.download('punkt')\n",
        "nltk.download('stopwords')\n",
        "nltk.download('wordnet')\n",
        "nltk.download('omw-1.4')\n",
        "\n",
        "auth.authenticate_user()\n",
        "gauth = GoogleAuth()\n",
        "gauth.credentials = GoogleCredentials.get_application_default()\n",
        "drive = GoogleDrive(gauth)\n"
      ],
      "metadata": {
        "colab": {
          "base_uri": "https://localhost:8080/"
        },
        "id": "bU2T78B4tD82",
        "outputId": "e41003e5-182c-4848-d998-4e47a48328ee"
      },
      "execution_count": null,
      "outputs": [
        {
          "output_type": "stream",
          "name": "stderr",
          "text": [
            "[nltk_data] Downloading package punkt to /root/nltk_data...\n",
            "[nltk_data]   Unzipping tokenizers/punkt.zip.\n",
            "[nltk_data] Downloading package stopwords to /root/nltk_data...\n",
            "[nltk_data]   Unzipping corpora/stopwords.zip.\n",
            "[nltk_data] Downloading package wordnet to /root/nltk_data...\n",
            "[nltk_data] Downloading package omw-1.4 to /root/nltk_data...\n"
          ]
        }
      ]
    },
    {
      "cell_type": "markdown",
      "source": [
        "Инициализация"
      ],
      "metadata": {
        "id": "gOLyFwzQiQR4"
      }
    },
    {
      "cell_type": "code",
      "source": [
        "downloader = drive.CreateFile({'id':'1zY_BzCVPLpdrMbuJ5VkFG0nWp4sA_bYb'})\n",
        "downloader.GetContentFile('dataset.csv')\n",
        "\n",
        "data = pd.read_csv(\"dataset.csv\")\n",
        "data.head()"
      ],
      "metadata": {
        "colab": {
          "base_uri": "https://localhost:8080/",
          "height": 206
        },
        "id": "TNEU8cy4iR9E",
        "outputId": "b6ec3051-7844-41b1-a9c9-f04f7f025ba3"
      },
      "execution_count": null,
      "outputs": [
        {
          "output_type": "execute_result",
          "data": {
            "text/plain": [
              "       genre                                             lyrics  \\\n",
              "0  Christian   Who am I, that the Lord of all the earth Woul...   \n",
              "1  Christian   Glory Revealed  By His Wounds He was pierced ...   \n",
              "2  Christian   Lord of heaven and earth Lord of all creation...   \n",
              "3  Christian   I can only imagine what it will be like When ...   \n",
              "4  Christian   I am not skilled to understand What God has w...   \n",
              "\n",
              "                                 SongInfo  \n",
              "0        CASTING CROWNS - WHO AM I LYRICS  \n",
              "1   GLORY REVEALED - BY HIS WOUNDS LYRICS  \n",
              "2  CAEDMON'S CALL - GOD OF WONDERS LYRICS  \n",
              "3     MERCYME - I CAN ONLY IMAGINE LYRICS  \n",
              "4   AARON SHUST - MY SAVIOR MY GOD LYRICS  "
            ],
            "text/html": [
              "\n",
              "  <div id=\"df-84d2c9fb-207e-47e1-8ad2-a2cb4bf9acc3\">\n",
              "    <div class=\"colab-df-container\">\n",
              "      <div>\n",
              "<style scoped>\n",
              "    .dataframe tbody tr th:only-of-type {\n",
              "        vertical-align: middle;\n",
              "    }\n",
              "\n",
              "    .dataframe tbody tr th {\n",
              "        vertical-align: top;\n",
              "    }\n",
              "\n",
              "    .dataframe thead th {\n",
              "        text-align: right;\n",
              "    }\n",
              "</style>\n",
              "<table border=\"1\" class=\"dataframe\">\n",
              "  <thead>\n",
              "    <tr style=\"text-align: right;\">\n",
              "      <th></th>\n",
              "      <th>genre</th>\n",
              "      <th>lyrics</th>\n",
              "      <th>SongInfo</th>\n",
              "    </tr>\n",
              "  </thead>\n",
              "  <tbody>\n",
              "    <tr>\n",
              "      <th>0</th>\n",
              "      <td>Christian</td>\n",
              "      <td>Who am I, that the Lord of all the earth Woul...</td>\n",
              "      <td>CASTING CROWNS - WHO AM I LYRICS</td>\n",
              "    </tr>\n",
              "    <tr>\n",
              "      <th>1</th>\n",
              "      <td>Christian</td>\n",
              "      <td>Glory Revealed  By His Wounds He was pierced ...</td>\n",
              "      <td>GLORY REVEALED - BY HIS WOUNDS LYRICS</td>\n",
              "    </tr>\n",
              "    <tr>\n",
              "      <th>2</th>\n",
              "      <td>Christian</td>\n",
              "      <td>Lord of heaven and earth Lord of all creation...</td>\n",
              "      <td>CAEDMON'S CALL - GOD OF WONDERS LYRICS</td>\n",
              "    </tr>\n",
              "    <tr>\n",
              "      <th>3</th>\n",
              "      <td>Christian</td>\n",
              "      <td>I can only imagine what it will be like When ...</td>\n",
              "      <td>MERCYME - I CAN ONLY IMAGINE LYRICS</td>\n",
              "    </tr>\n",
              "    <tr>\n",
              "      <th>4</th>\n",
              "      <td>Christian</td>\n",
              "      <td>I am not skilled to understand What God has w...</td>\n",
              "      <td>AARON SHUST - MY SAVIOR MY GOD LYRICS</td>\n",
              "    </tr>\n",
              "  </tbody>\n",
              "</table>\n",
              "</div>\n",
              "      <button class=\"colab-df-convert\" onclick=\"convertToInteractive('df-84d2c9fb-207e-47e1-8ad2-a2cb4bf9acc3')\"\n",
              "              title=\"Convert this dataframe to an interactive table.\"\n",
              "              style=\"display:none;\">\n",
              "        \n",
              "  <svg xmlns=\"http://www.w3.org/2000/svg\" height=\"24px\"viewBox=\"0 0 24 24\"\n",
              "       width=\"24px\">\n",
              "    <path d=\"M0 0h24v24H0V0z\" fill=\"none\"/>\n",
              "    <path d=\"M18.56 5.44l.94 2.06.94-2.06 2.06-.94-2.06-.94-.94-2.06-.94 2.06-2.06.94zm-11 1L8.5 8.5l.94-2.06 2.06-.94-2.06-.94L8.5 2.5l-.94 2.06-2.06.94zm10 10l.94 2.06.94-2.06 2.06-.94-2.06-.94-.94-2.06-.94 2.06-2.06.94z\"/><path d=\"M17.41 7.96l-1.37-1.37c-.4-.4-.92-.59-1.43-.59-.52 0-1.04.2-1.43.59L10.3 9.45l-7.72 7.72c-.78.78-.78 2.05 0 2.83L4 21.41c.39.39.9.59 1.41.59.51 0 1.02-.2 1.41-.59l7.78-7.78 2.81-2.81c.8-.78.8-2.07 0-2.86zM5.41 20L4 18.59l7.72-7.72 1.47 1.35L5.41 20z\"/>\n",
              "  </svg>\n",
              "      </button>\n",
              "      \n",
              "  <style>\n",
              "    .colab-df-container {\n",
              "      display:flex;\n",
              "      flex-wrap:wrap;\n",
              "      gap: 12px;\n",
              "    }\n",
              "\n",
              "    .colab-df-convert {\n",
              "      background-color: #E8F0FE;\n",
              "      border: none;\n",
              "      border-radius: 50%;\n",
              "      cursor: pointer;\n",
              "      display: none;\n",
              "      fill: #1967D2;\n",
              "      height: 32px;\n",
              "      padding: 0 0 0 0;\n",
              "      width: 32px;\n",
              "    }\n",
              "\n",
              "    .colab-df-convert:hover {\n",
              "      background-color: #E2EBFA;\n",
              "      box-shadow: 0px 1px 2px rgba(60, 64, 67, 0.3), 0px 1px 3px 1px rgba(60, 64, 67, 0.15);\n",
              "      fill: #174EA6;\n",
              "    }\n",
              "\n",
              "    [theme=dark] .colab-df-convert {\n",
              "      background-color: #3B4455;\n",
              "      fill: #D2E3FC;\n",
              "    }\n",
              "\n",
              "    [theme=dark] .colab-df-convert:hover {\n",
              "      background-color: #434B5C;\n",
              "      box-shadow: 0px 1px 3px 1px rgba(0, 0, 0, 0.15);\n",
              "      filter: drop-shadow(0px 1px 2px rgba(0, 0, 0, 0.3));\n",
              "      fill: #FFFFFF;\n",
              "    }\n",
              "  </style>\n",
              "\n",
              "      <script>\n",
              "        const buttonEl =\n",
              "          document.querySelector('#df-84d2c9fb-207e-47e1-8ad2-a2cb4bf9acc3 button.colab-df-convert');\n",
              "        buttonEl.style.display =\n",
              "          google.colab.kernel.accessAllowed ? 'block' : 'none';\n",
              "\n",
              "        async function convertToInteractive(key) {\n",
              "          const element = document.querySelector('#df-84d2c9fb-207e-47e1-8ad2-a2cb4bf9acc3');\n",
              "          const dataTable =\n",
              "            await google.colab.kernel.invokeFunction('convertToInteractive',\n",
              "                                                     [key], {});\n",
              "          if (!dataTable) return;\n",
              "\n",
              "          const docLinkHtml = 'Like what you see? Visit the ' +\n",
              "            '<a target=\"_blank\" href=https://colab.research.google.com/notebooks/data_table.ipynb>data table notebook</a>'\n",
              "            + ' to learn more about interactive tables.';\n",
              "          element.innerHTML = '';\n",
              "          dataTable['output_type'] = 'display_data';\n",
              "          await google.colab.output.renderOutput(dataTable, element);\n",
              "          const docLink = document.createElement('div');\n",
              "          docLink.innerHTML = docLinkHtml;\n",
              "          element.appendChild(docLink);\n",
              "        }\n",
              "      </script>\n",
              "    </div>\n",
              "  </div>\n",
              "  "
            ]
          },
          "metadata": {},
          "execution_count": 72
        }
      ]
    },
    {
      "cell_type": "markdown",
      "source": [
        "Выбираем жанры, приводим к lower-кейсу, убираем стоп-слова, токенизируем\n"
      ],
      "metadata": {
        "id": "gC9A6snJiYdp"
      }
    },
    {
      "cell_type": "code",
      "source": [
        "\n",
        "columns = data[['genre', 'lyrics']]\n",
        "columns = columns[(columns.genre == 'Pop') | (columns.genre == 'R&B')]\n",
        "\n",
        "lowered = columns['lyrics'].str.lower()\n",
        "columns['lowered'] = lowered\n",
        "\n",
        "tokened = columns.apply(lambda row: nltk.word_tokenize(row['lowered']), axis=1)\n",
        "columns['tokened'] = tokened\n",
        "\n",
        "#print(stopwords.words('english'))\n",
        "noise = stopwords.words('english')\n",
        "withoutstop = columns['tokened'].apply(lambda x: [item for item in x if item not in noise])\n",
        "without_stop = []\n",
        "for a in withoutstop:    \n",
        "    without_stop.append(\", \".join(a))\n",
        "columns['without_stop'] = without_stop"
      ],
      "metadata": {
        "id": "RjqOIRAwtlo1"
      },
      "execution_count": null,
      "outputs": []
    },
    {
      "cell_type": "markdown",
      "source": [
        "Лемматизация"
      ],
      "metadata": {
        "id": "BXYWXxOh0FyZ"
      }
    },
    {
      "cell_type": "code",
      "source": [
        "lemmatizer = WordNetLemmatizer()\n",
        "lemmatized = columns['without_stop'].apply(lambda x: [lemmatizer.lemmatize(x)])\n",
        "lemma = []\n",
        "for a in lemmatized:    \n",
        "    lemma.append(\", \".join(a))\n",
        "columns['lemmatized'] = lemma\n",
        "\n",
        "#columns"
      ],
      "metadata": {
        "id": "hdjvc_pf0JZH"
      },
      "execution_count": null,
      "outputs": []
    },
    {
      "cell_type": "markdown",
      "source": [
        "Разделим данные на обучающую и тестовые выборки\n",
        "\n",
        "x_train - тексты, на которых мы обучаем модель. В данном случае мы используем столбец lemmatized, так как он содержит данные, прошедшие все этапы подготовки\n",
        "\n",
        "y_train - жанры, соответствующие текстам, на которых модель обучается - столбец genre\n",
        "\n",
        "x_test - точно такие же тексты из набора данных, на которых мы будем проверять, насколько модель научилась предсказывать жанр\n",
        "\n",
        "y_test - жанры, соответствующие x_test. т.е. мы смотрим, насколько предсказания соответствуют содержимому этой переменной, чтобы оценить качество обучения"
      ],
      "metadata": {
        "id": "LPoHsJiM1lbd"
      }
    },
    {
      "cell_type": "markdown",
      "source": [
        "Recall демонстрирует способность алгоритма обнаруживать данный класс вообще, \n",
        "precision — способность отличать этот класс от других классов,\n",
        " f1-score - среднее гармоническое precision и recall"
      ],
      "metadata": {
        "id": "TM2MZEEAcRKC"
      }
    },
    {
      "cell_type": "code",
      "source": [
        "# ~ 2/3 для обучения и ~ 1/3 для тестирования\n",
        "x_train, x_test, y_train, y_test = train_test_split(columns.lemmatized, columns.genre, train_size = 0.7)\n",
        "\n",
        "\n",
        "vectorizer = CountVectorizer(ngram_range=(1, 3))\n",
        "vectorized_x_train = vectorizer.fit_transform(x_train)\n",
        "\n",
        "clf = MultinomialNB()\n",
        "clf.fit(vectorized_x_train, y_train)\n",
        "# тестовую выборку просто векторизировали\n",
        "vectorized_x_test = vectorizer.transform(x_test)\n",
        "\n",
        "# print(vectorized_x_test)\n",
        "clf.predict(vectorized_x_test)\n",
        "\n",
        "pred = clf.predict(vectorized_x_test)\n",
        "print(classification_report(y_test, pred))"
      ],
      "metadata": {
        "colab": {
          "base_uri": "https://localhost:8080/"
        },
        "id": "VyGJatJL1nN9",
        "outputId": "82ece4f0-54d0-4d98-aebc-c7d4cb7d3b0c"
      },
      "execution_count": null,
      "outputs": [
        {
          "output_type": "stream",
          "name": "stdout",
          "text": [
            "              precision    recall  f1-score   support\n",
            "\n",
            "         Pop       0.69      0.55      0.61        33\n",
            "         R&B       0.53      0.68      0.60        25\n",
            "\n",
            "    accuracy                           0.60        58\n",
            "   macro avg       0.61      0.61      0.60        58\n",
            "weighted avg       0.62      0.60      0.60        58\n",
            "\n"
          ]
        }
      ]
    },
    {
      "cell_type": "markdown",
      "source": [
        "# 2 Задание"
      ],
      "metadata": {
        "id": "XbHVbzexcf8d"
      }
    },
    {
      "cell_type": "markdown",
      "source": [
        "Загрузка датасета"
      ],
      "metadata": {
        "id": "stNaWkhSf4-D"
      }
    },
    {
      "cell_type": "code",
      "source": [
        "downloader = drive.CreateFile({'id':'17yy2-NZKyqZ57Q9RVCCy0HVCx66CKLuk'})\n",
        "downloader.GetContentFile('MyDataSet.csv')\n",
        "\n",
        "data = pd.read_csv(\"MyDataSet.csv\")\n",
        "data.head()\n"
      ],
      "metadata": {
        "colab": {
          "base_uri": "https://localhost:8080/",
          "height": 112
        },
        "id": "spHyysz7ekIa",
        "outputId": "abfc608d-a882-4a8e-e133-1e49eac4d3ed"
      },
      "execution_count": null,
      "outputs": [
        {
          "output_type": "execute_result",
          "data": {
            "text/plain": [
              "  genre                                             lyrics  \\\n",
              "0   R&B  yeah you know what i like the players no diggi...   \n",
              "1   Pop  i stay out too late got nothing in my brain th...   \n",
              "\n",
              "                      SongInfo  \n",
              "0   Blackstreet – No Diggity    \n",
              "1  Taylor Swift – Shake It Off  "
            ],
            "text/html": [
              "\n",
              "  <div id=\"df-3b353b9a-2ec4-4312-975f-a441c4a62a58\">\n",
              "    <div class=\"colab-df-container\">\n",
              "      <div>\n",
              "<style scoped>\n",
              "    .dataframe tbody tr th:only-of-type {\n",
              "        vertical-align: middle;\n",
              "    }\n",
              "\n",
              "    .dataframe tbody tr th {\n",
              "        vertical-align: top;\n",
              "    }\n",
              "\n",
              "    .dataframe thead th {\n",
              "        text-align: right;\n",
              "    }\n",
              "</style>\n",
              "<table border=\"1\" class=\"dataframe\">\n",
              "  <thead>\n",
              "    <tr style=\"text-align: right;\">\n",
              "      <th></th>\n",
              "      <th>genre</th>\n",
              "      <th>lyrics</th>\n",
              "      <th>SongInfo</th>\n",
              "    </tr>\n",
              "  </thead>\n",
              "  <tbody>\n",
              "    <tr>\n",
              "      <th>0</th>\n",
              "      <td>R&amp;B</td>\n",
              "      <td>yeah you know what i like the players no diggi...</td>\n",
              "      <td>Blackstreet – No Diggity</td>\n",
              "    </tr>\n",
              "    <tr>\n",
              "      <th>1</th>\n",
              "      <td>Pop</td>\n",
              "      <td>i stay out too late got nothing in my brain th...</td>\n",
              "      <td>Taylor Swift – Shake It Off</td>\n",
              "    </tr>\n",
              "  </tbody>\n",
              "</table>\n",
              "</div>\n",
              "      <button class=\"colab-df-convert\" onclick=\"convertToInteractive('df-3b353b9a-2ec4-4312-975f-a441c4a62a58')\"\n",
              "              title=\"Convert this dataframe to an interactive table.\"\n",
              "              style=\"display:none;\">\n",
              "        \n",
              "  <svg xmlns=\"http://www.w3.org/2000/svg\" height=\"24px\"viewBox=\"0 0 24 24\"\n",
              "       width=\"24px\">\n",
              "    <path d=\"M0 0h24v24H0V0z\" fill=\"none\"/>\n",
              "    <path d=\"M18.56 5.44l.94 2.06.94-2.06 2.06-.94-2.06-.94-.94-2.06-.94 2.06-2.06.94zm-11 1L8.5 8.5l.94-2.06 2.06-.94-2.06-.94L8.5 2.5l-.94 2.06-2.06.94zm10 10l.94 2.06.94-2.06 2.06-.94-2.06-.94-.94-2.06-.94 2.06-2.06.94z\"/><path d=\"M17.41 7.96l-1.37-1.37c-.4-.4-.92-.59-1.43-.59-.52 0-1.04.2-1.43.59L10.3 9.45l-7.72 7.72c-.78.78-.78 2.05 0 2.83L4 21.41c.39.39.9.59 1.41.59.51 0 1.02-.2 1.41-.59l7.78-7.78 2.81-2.81c.8-.78.8-2.07 0-2.86zM5.41 20L4 18.59l7.72-7.72 1.47 1.35L5.41 20z\"/>\n",
              "  </svg>\n",
              "      </button>\n",
              "      \n",
              "  <style>\n",
              "    .colab-df-container {\n",
              "      display:flex;\n",
              "      flex-wrap:wrap;\n",
              "      gap: 12px;\n",
              "    }\n",
              "\n",
              "    .colab-df-convert {\n",
              "      background-color: #E8F0FE;\n",
              "      border: none;\n",
              "      border-radius: 50%;\n",
              "      cursor: pointer;\n",
              "      display: none;\n",
              "      fill: #1967D2;\n",
              "      height: 32px;\n",
              "      padding: 0 0 0 0;\n",
              "      width: 32px;\n",
              "    }\n",
              "\n",
              "    .colab-df-convert:hover {\n",
              "      background-color: #E2EBFA;\n",
              "      box-shadow: 0px 1px 2px rgba(60, 64, 67, 0.3), 0px 1px 3px 1px rgba(60, 64, 67, 0.15);\n",
              "      fill: #174EA6;\n",
              "    }\n",
              "\n",
              "    [theme=dark] .colab-df-convert {\n",
              "      background-color: #3B4455;\n",
              "      fill: #D2E3FC;\n",
              "    }\n",
              "\n",
              "    [theme=dark] .colab-df-convert:hover {\n",
              "      background-color: #434B5C;\n",
              "      box-shadow: 0px 1px 3px 1px rgba(0, 0, 0, 0.15);\n",
              "      filter: drop-shadow(0px 1px 2px rgba(0, 0, 0, 0.3));\n",
              "      fill: #FFFFFF;\n",
              "    }\n",
              "  </style>\n",
              "\n",
              "      <script>\n",
              "        const buttonEl =\n",
              "          document.querySelector('#df-3b353b9a-2ec4-4312-975f-a441c4a62a58 button.colab-df-convert');\n",
              "        buttonEl.style.display =\n",
              "          google.colab.kernel.accessAllowed ? 'block' : 'none';\n",
              "\n",
              "        async function convertToInteractive(key) {\n",
              "          const element = document.querySelector('#df-3b353b9a-2ec4-4312-975f-a441c4a62a58');\n",
              "          const dataTable =\n",
              "            await google.colab.kernel.invokeFunction('convertToInteractive',\n",
              "                                                     [key], {});\n",
              "          if (!dataTable) return;\n",
              "\n",
              "          const docLinkHtml = 'Like what you see? Visit the ' +\n",
              "            '<a target=\"_blank\" href=https://colab.research.google.com/notebooks/data_table.ipynb>data table notebook</a>'\n",
              "            + ' to learn more about interactive tables.';\n",
              "          element.innerHTML = '';\n",
              "          dataTable['output_type'] = 'display_data';\n",
              "          await google.colab.output.renderOutput(dataTable, element);\n",
              "          const docLink = document.createElement('div');\n",
              "          docLink.innerHTML = docLinkHtml;\n",
              "          element.appendChild(docLink);\n",
              "        }\n",
              "      </script>\n",
              "    </div>\n",
              "  </div>\n",
              "  "
            ]
          },
          "metadata": {},
          "execution_count": 77
        }
      ]
    },
    {
      "cell_type": "markdown",
      "source": [
        "Выбираем жанры, приводит к lower-кейсу, убираем стоп-слова, токенизируем\n",
        "\n",
        "\n"
      ],
      "metadata": {
        "id": "r-d8easbf-iS"
      }
    },
    {
      "cell_type": "code",
      "source": [
        "columns = data[['genre', 'lyrics']]\n",
        "columns = columns[(columns.genre == 'Pop') | (columns.genre == 'R&B')]\n",
        "\n",
        "lowered = columns['lyrics'].str.lower()\n",
        "columns['lowered'] = lowered\n",
        "\n",
        "tokened = columns.apply(lambda row: nltk.word_tokenize(row['lowered']), axis=1)\n",
        "columns['tokened'] = tokened\n",
        "\n",
        "#print(stopwords.words('english'))\n",
        "noise = stopwords.words('english')\n",
        "withoutstop = columns['tokened'].apply(lambda x: [item for item in x if item not in noise])\n",
        "without_stop = []\n",
        "for a in withoutstop:    \n",
        "    without_stop.append(\", \".join(a))\n",
        "columns['without_stop'] = without_stop"
      ],
      "metadata": {
        "id": "4Wx2bzUzgALp"
      },
      "execution_count": null,
      "outputs": []
    },
    {
      "cell_type": "markdown",
      "source": [
        "Лемматизация"
      ],
      "metadata": {
        "id": "Xa7UN-tXgXk3"
      }
    },
    {
      "cell_type": "code",
      "source": [
        "lemmatizer = WordNetLemmatizer()\n",
        "lemmatized = columns['without_stop'].apply(lambda x: [lemmatizer.lemmatize(x)])\n",
        "lemma = []\n",
        "for a in lemmatized:    \n",
        "    lemma.append(\", \".join(a))\n",
        "columns['lemmatized'] = lemma\n",
        "\n",
        "columns"
      ],
      "metadata": {
        "colab": {
          "base_uri": "https://localhost:8080/",
          "height": 112
        },
        "id": "BaFgT14dgYwf",
        "outputId": "577e744d-5d0e-4789-e552-d534dcf6f555"
      },
      "execution_count": null,
      "outputs": [
        {
          "output_type": "execute_result",
          "data": {
            "text/plain": [
              "  genre                                             lyrics  \\\n",
              "0   R&B  yeah you know what i like the players no diggi...   \n",
              "1   Pop  i stay out too late got nothing in my brain th...   \n",
              "\n",
              "                                             lowered  \\\n",
              "0  yeah you know what i like the players no diggi...   \n",
              "1  i stay out too late got nothing in my brain th...   \n",
              "\n",
              "                                             tokened  \\\n",
              "0  [yeah, you, know, what, i, like, the, players,...   \n",
              "1  [i, stay, out, too, late, got, nothing, in, my...   \n",
              "\n",
              "                                        without_stop  \\\n",
              "0  yeah, know, like, players, diggity, ,, doubt, ...   \n",
              "1  stay, late, got, nothing, brain, 's, people, s...   \n",
              "\n",
              "                                          lemmatized  \n",
              "0  yeah, know, like, players, diggity, ,, doubt, ...  \n",
              "1  stay, late, got, nothing, brain, 's, people, s...  "
            ],
            "text/html": [
              "\n",
              "  <div id=\"df-c951e6b9-6d28-457c-9b5b-1ce2c668abf0\">\n",
              "    <div class=\"colab-df-container\">\n",
              "      <div>\n",
              "<style scoped>\n",
              "    .dataframe tbody tr th:only-of-type {\n",
              "        vertical-align: middle;\n",
              "    }\n",
              "\n",
              "    .dataframe tbody tr th {\n",
              "        vertical-align: top;\n",
              "    }\n",
              "\n",
              "    .dataframe thead th {\n",
              "        text-align: right;\n",
              "    }\n",
              "</style>\n",
              "<table border=\"1\" class=\"dataframe\">\n",
              "  <thead>\n",
              "    <tr style=\"text-align: right;\">\n",
              "      <th></th>\n",
              "      <th>genre</th>\n",
              "      <th>lyrics</th>\n",
              "      <th>lowered</th>\n",
              "      <th>tokened</th>\n",
              "      <th>without_stop</th>\n",
              "      <th>lemmatized</th>\n",
              "    </tr>\n",
              "  </thead>\n",
              "  <tbody>\n",
              "    <tr>\n",
              "      <th>0</th>\n",
              "      <td>R&amp;B</td>\n",
              "      <td>yeah you know what i like the players no diggi...</td>\n",
              "      <td>yeah you know what i like the players no diggi...</td>\n",
              "      <td>[yeah, you, know, what, i, like, the, players,...</td>\n",
              "      <td>yeah, know, like, players, diggity, ,, doubt, ...</td>\n",
              "      <td>yeah, know, like, players, diggity, ,, doubt, ...</td>\n",
              "    </tr>\n",
              "    <tr>\n",
              "      <th>1</th>\n",
              "      <td>Pop</td>\n",
              "      <td>i stay out too late got nothing in my brain th...</td>\n",
              "      <td>i stay out too late got nothing in my brain th...</td>\n",
              "      <td>[i, stay, out, too, late, got, nothing, in, my...</td>\n",
              "      <td>stay, late, got, nothing, brain, 's, people, s...</td>\n",
              "      <td>stay, late, got, nothing, brain, 's, people, s...</td>\n",
              "    </tr>\n",
              "  </tbody>\n",
              "</table>\n",
              "</div>\n",
              "      <button class=\"colab-df-convert\" onclick=\"convertToInteractive('df-c951e6b9-6d28-457c-9b5b-1ce2c668abf0')\"\n",
              "              title=\"Convert this dataframe to an interactive table.\"\n",
              "              style=\"display:none;\">\n",
              "        \n",
              "  <svg xmlns=\"http://www.w3.org/2000/svg\" height=\"24px\"viewBox=\"0 0 24 24\"\n",
              "       width=\"24px\">\n",
              "    <path d=\"M0 0h24v24H0V0z\" fill=\"none\"/>\n",
              "    <path d=\"M18.56 5.44l.94 2.06.94-2.06 2.06-.94-2.06-.94-.94-2.06-.94 2.06-2.06.94zm-11 1L8.5 8.5l.94-2.06 2.06-.94-2.06-.94L8.5 2.5l-.94 2.06-2.06.94zm10 10l.94 2.06.94-2.06 2.06-.94-2.06-.94-.94-2.06-.94 2.06-2.06.94z\"/><path d=\"M17.41 7.96l-1.37-1.37c-.4-.4-.92-.59-1.43-.59-.52 0-1.04.2-1.43.59L10.3 9.45l-7.72 7.72c-.78.78-.78 2.05 0 2.83L4 21.41c.39.39.9.59 1.41.59.51 0 1.02-.2 1.41-.59l7.78-7.78 2.81-2.81c.8-.78.8-2.07 0-2.86zM5.41 20L4 18.59l7.72-7.72 1.47 1.35L5.41 20z\"/>\n",
              "  </svg>\n",
              "      </button>\n",
              "      \n",
              "  <style>\n",
              "    .colab-df-container {\n",
              "      display:flex;\n",
              "      flex-wrap:wrap;\n",
              "      gap: 12px;\n",
              "    }\n",
              "\n",
              "    .colab-df-convert {\n",
              "      background-color: #E8F0FE;\n",
              "      border: none;\n",
              "      border-radius: 50%;\n",
              "      cursor: pointer;\n",
              "      display: none;\n",
              "      fill: #1967D2;\n",
              "      height: 32px;\n",
              "      padding: 0 0 0 0;\n",
              "      width: 32px;\n",
              "    }\n",
              "\n",
              "    .colab-df-convert:hover {\n",
              "      background-color: #E2EBFA;\n",
              "      box-shadow: 0px 1px 2px rgba(60, 64, 67, 0.3), 0px 1px 3px 1px rgba(60, 64, 67, 0.15);\n",
              "      fill: #174EA6;\n",
              "    }\n",
              "\n",
              "    [theme=dark] .colab-df-convert {\n",
              "      background-color: #3B4455;\n",
              "      fill: #D2E3FC;\n",
              "    }\n",
              "\n",
              "    [theme=dark] .colab-df-convert:hover {\n",
              "      background-color: #434B5C;\n",
              "      box-shadow: 0px 1px 3px 1px rgba(0, 0, 0, 0.15);\n",
              "      filter: drop-shadow(0px 1px 2px rgba(0, 0, 0, 0.3));\n",
              "      fill: #FFFFFF;\n",
              "    }\n",
              "  </style>\n",
              "\n",
              "      <script>\n",
              "        const buttonEl =\n",
              "          document.querySelector('#df-c951e6b9-6d28-457c-9b5b-1ce2c668abf0 button.colab-df-convert');\n",
              "        buttonEl.style.display =\n",
              "          google.colab.kernel.accessAllowed ? 'block' : 'none';\n",
              "\n",
              "        async function convertToInteractive(key) {\n",
              "          const element = document.querySelector('#df-c951e6b9-6d28-457c-9b5b-1ce2c668abf0');\n",
              "          const dataTable =\n",
              "            await google.colab.kernel.invokeFunction('convertToInteractive',\n",
              "                                                     [key], {});\n",
              "          if (!dataTable) return;\n",
              "\n",
              "          const docLinkHtml = 'Like what you see? Visit the ' +\n",
              "            '<a target=\"_blank\" href=https://colab.research.google.com/notebooks/data_table.ipynb>data table notebook</a>'\n",
              "            + ' to learn more about interactive tables.';\n",
              "          element.innerHTML = '';\n",
              "          dataTable['output_type'] = 'display_data';\n",
              "          await google.colab.output.renderOutput(dataTable, element);\n",
              "          const docLink = document.createElement('div');\n",
              "          docLink.innerHTML = docLinkHtml;\n",
              "          element.appendChild(docLink);\n",
              "        }\n",
              "      </script>\n",
              "    </div>\n",
              "  </div>\n",
              "  "
            ]
          },
          "metadata": {},
          "execution_count": 79
        }
      ]
    },
    {
      "cell_type": "markdown",
      "source": [
        "Создаем тестовую выборку и векторизиурем ее"
      ],
      "metadata": {
        "id": "9uQwADHXgk0G"
      }
    },
    {
      "cell_type": "code",
      "source": [
        "x_test = columns['lemmatized']\n",
        "vectorized_x_test = vectorizer.transform(x_test)\n",
        "clf.predict(vectorized_x_test)"
      ],
      "metadata": {
        "colab": {
          "base_uri": "https://localhost:8080/"
        },
        "id": "MdUve-dJgi0J",
        "outputId": "cb209005-85f6-4cfa-f729-1d3bc8fdb407"
      },
      "execution_count": null,
      "outputs": [
        {
          "output_type": "execute_result",
          "data": {
            "text/plain": [
              "array(['Pop', 'R&B'], dtype='<U3')"
            ]
          },
          "metadata": {},
          "execution_count": 80
        }
      ]
    },
    {
      "cell_type": "markdown",
      "source": [
        "Песни получились жанра R&B, это говорит о небольшой точности НБК\n",
        "(После повторого запуска всех ячеек значение уже другое, теперь первая песня - Pop, вторая - R&B)"
      ],
      "metadata": {
        "id": "HFP8tP5Vgt8N"
      }
    },
    {
      "cell_type": "markdown",
      "source": [
        "Посмотрим что в классификации и увидим, что у Pop \"recall\" (способность находить её) действительно 0"
      ],
      "metadata": {
        "id": "ZZd1ABpLhcDS"
      }
    },
    {
      "cell_type": "code",
      "source": [
        "y_test = columns['genre']\n",
        "vectorized_y_test = vectorizer.transform(y_test)\n",
        "print(classification_report(y_test, clf.predict(vectorized_x_test)))"
      ],
      "metadata": {
        "colab": {
          "base_uri": "https://localhost:8080/"
        },
        "id": "8nHPPu8-hGFB",
        "outputId": "294ec385-00c8-497d-e926-1b6365851bb4"
      },
      "execution_count": null,
      "outputs": [
        {
          "output_type": "stream",
          "name": "stdout",
          "text": [
            "              precision    recall  f1-score   support\n",
            "\n",
            "         Pop       0.00      0.00      0.00       1.0\n",
            "         R&B       0.00      0.00      0.00       1.0\n",
            "\n",
            "    accuracy                           0.00       2.0\n",
            "   macro avg       0.00      0.00      0.00       2.0\n",
            "weighted avg       0.00      0.00      0.00       2.0\n",
            "\n"
          ]
        }
      ]
    },
    {
      "cell_type": "markdown",
      "source": [
        "# Задание 3"
      ],
      "metadata": {
        "id": "FaXftDFjhhqW"
      }
    },
    {
      "cell_type": "markdown",
      "source": [
        "Инициализация"
      ],
      "metadata": {
        "id": "y_9jkdI9j8Qk"
      }
    },
    {
      "cell_type": "code",
      "source": [
        "downloader = drive.CreateFile({'id':'1jJ6bH9Xhp4-DmkE9ZihtNqeanuWJNVcW'})\n",
        "downloader.GetContentFile('dataset-lyrics-musics-mini.csv')\n",
        "\n",
        "data = pd.read_csv(\"dataset-lyrics-musics-mini.csv\")\n",
        "data.head()"
      ],
      "metadata": {
        "colab": {
          "base_uri": "https://localhost:8080/",
          "height": 206
        },
        "id": "7RTWEcOeh7_y",
        "outputId": "04fb4124-b5f7-41ac-8ba9-06c48eb447ff"
      },
      "execution_count": null,
      "outputs": [
        {
          "output_type": "execute_result",
          "data": {
            "text/plain": [
              "   cantorId   cantorNome     musicaNome  \\\n",
              "0         0  david-bowie         Heroes   \n",
              "1         0  david-bowie        Starman   \n",
              "2         0  david-bowie   Space Oddity   \n",
              "3         0  david-bowie  Life On Mars?   \n",
              "4         0  david-bowie    Modern Love   \n",
              "\n",
              "                                               letra  \n",
              "0  I, I will be king. And you, you will be queen....  \n",
              "1  Didn't know what time it was,. The lights were...  \n",
              "2  Ground control to Major Tom. Ground control to...  \n",
              "3  It's a god-awful small affair. To the girl wit...  \n",
              "4  I know when to go out. And when to stay in. Ge...  "
            ],
            "text/html": [
              "\n",
              "  <div id=\"df-47f24da1-59f0-4e85-9f1b-62414c5e8925\">\n",
              "    <div class=\"colab-df-container\">\n",
              "      <div>\n",
              "<style scoped>\n",
              "    .dataframe tbody tr th:only-of-type {\n",
              "        vertical-align: middle;\n",
              "    }\n",
              "\n",
              "    .dataframe tbody tr th {\n",
              "        vertical-align: top;\n",
              "    }\n",
              "\n",
              "    .dataframe thead th {\n",
              "        text-align: right;\n",
              "    }\n",
              "</style>\n",
              "<table border=\"1\" class=\"dataframe\">\n",
              "  <thead>\n",
              "    <tr style=\"text-align: right;\">\n",
              "      <th></th>\n",
              "      <th>cantorId</th>\n",
              "      <th>cantorNome</th>\n",
              "      <th>musicaNome</th>\n",
              "      <th>letra</th>\n",
              "    </tr>\n",
              "  </thead>\n",
              "  <tbody>\n",
              "    <tr>\n",
              "      <th>0</th>\n",
              "      <td>0</td>\n",
              "      <td>david-bowie</td>\n",
              "      <td>Heroes</td>\n",
              "      <td>I, I will be king. And you, you will be queen....</td>\n",
              "    </tr>\n",
              "    <tr>\n",
              "      <th>1</th>\n",
              "      <td>0</td>\n",
              "      <td>david-bowie</td>\n",
              "      <td>Starman</td>\n",
              "      <td>Didn't know what time it was,. The lights were...</td>\n",
              "    </tr>\n",
              "    <tr>\n",
              "      <th>2</th>\n",
              "      <td>0</td>\n",
              "      <td>david-bowie</td>\n",
              "      <td>Space Oddity</td>\n",
              "      <td>Ground control to Major Tom. Ground control to...</td>\n",
              "    </tr>\n",
              "    <tr>\n",
              "      <th>3</th>\n",
              "      <td>0</td>\n",
              "      <td>david-bowie</td>\n",
              "      <td>Life On Mars?</td>\n",
              "      <td>It's a god-awful small affair. To the girl wit...</td>\n",
              "    </tr>\n",
              "    <tr>\n",
              "      <th>4</th>\n",
              "      <td>0</td>\n",
              "      <td>david-bowie</td>\n",
              "      <td>Modern Love</td>\n",
              "      <td>I know when to go out. And when to stay in. Ge...</td>\n",
              "    </tr>\n",
              "  </tbody>\n",
              "</table>\n",
              "</div>\n",
              "      <button class=\"colab-df-convert\" onclick=\"convertToInteractive('df-47f24da1-59f0-4e85-9f1b-62414c5e8925')\"\n",
              "              title=\"Convert this dataframe to an interactive table.\"\n",
              "              style=\"display:none;\">\n",
              "        \n",
              "  <svg xmlns=\"http://www.w3.org/2000/svg\" height=\"24px\"viewBox=\"0 0 24 24\"\n",
              "       width=\"24px\">\n",
              "    <path d=\"M0 0h24v24H0V0z\" fill=\"none\"/>\n",
              "    <path d=\"M18.56 5.44l.94 2.06.94-2.06 2.06-.94-2.06-.94-.94-2.06-.94 2.06-2.06.94zm-11 1L8.5 8.5l.94-2.06 2.06-.94-2.06-.94L8.5 2.5l-.94 2.06-2.06.94zm10 10l.94 2.06.94-2.06 2.06-.94-2.06-.94-.94-2.06-.94 2.06-2.06.94z\"/><path d=\"M17.41 7.96l-1.37-1.37c-.4-.4-.92-.59-1.43-.59-.52 0-1.04.2-1.43.59L10.3 9.45l-7.72 7.72c-.78.78-.78 2.05 0 2.83L4 21.41c.39.39.9.59 1.41.59.51 0 1.02-.2 1.41-.59l7.78-7.78 2.81-2.81c.8-.78.8-2.07 0-2.86zM5.41 20L4 18.59l7.72-7.72 1.47 1.35L5.41 20z\"/>\n",
              "  </svg>\n",
              "      </button>\n",
              "      \n",
              "  <style>\n",
              "    .colab-df-container {\n",
              "      display:flex;\n",
              "      flex-wrap:wrap;\n",
              "      gap: 12px;\n",
              "    }\n",
              "\n",
              "    .colab-df-convert {\n",
              "      background-color: #E8F0FE;\n",
              "      border: none;\n",
              "      border-radius: 50%;\n",
              "      cursor: pointer;\n",
              "      display: none;\n",
              "      fill: #1967D2;\n",
              "      height: 32px;\n",
              "      padding: 0 0 0 0;\n",
              "      width: 32px;\n",
              "    }\n",
              "\n",
              "    .colab-df-convert:hover {\n",
              "      background-color: #E2EBFA;\n",
              "      box-shadow: 0px 1px 2px rgba(60, 64, 67, 0.3), 0px 1px 3px 1px rgba(60, 64, 67, 0.15);\n",
              "      fill: #174EA6;\n",
              "    }\n",
              "\n",
              "    [theme=dark] .colab-df-convert {\n",
              "      background-color: #3B4455;\n",
              "      fill: #D2E3FC;\n",
              "    }\n",
              "\n",
              "    [theme=dark] .colab-df-convert:hover {\n",
              "      background-color: #434B5C;\n",
              "      box-shadow: 0px 1px 3px 1px rgba(0, 0, 0, 0.15);\n",
              "      filter: drop-shadow(0px 1px 2px rgba(0, 0, 0, 0.3));\n",
              "      fill: #FFFFFF;\n",
              "    }\n",
              "  </style>\n",
              "\n",
              "      <script>\n",
              "        const buttonEl =\n",
              "          document.querySelector('#df-47f24da1-59f0-4e85-9f1b-62414c5e8925 button.colab-df-convert');\n",
              "        buttonEl.style.display =\n",
              "          google.colab.kernel.accessAllowed ? 'block' : 'none';\n",
              "\n",
              "        async function convertToInteractive(key) {\n",
              "          const element = document.querySelector('#df-47f24da1-59f0-4e85-9f1b-62414c5e8925');\n",
              "          const dataTable =\n",
              "            await google.colab.kernel.invokeFunction('convertToInteractive',\n",
              "                                                     [key], {});\n",
              "          if (!dataTable) return;\n",
              "\n",
              "          const docLinkHtml = 'Like what you see? Visit the ' +\n",
              "            '<a target=\"_blank\" href=https://colab.research.google.com/notebooks/data_table.ipynb>data table notebook</a>'\n",
              "            + ' to learn more about interactive tables.';\n",
              "          element.innerHTML = '';\n",
              "          dataTable['output_type'] = 'display_data';\n",
              "          await google.colab.output.renderOutput(dataTable, element);\n",
              "          const docLink = document.createElement('div');\n",
              "          docLink.innerHTML = docLinkHtml;\n",
              "          element.appendChild(docLink);\n",
              "        }\n",
              "      </script>\n",
              "    </div>\n",
              "  </div>\n",
              "  "
            ]
          },
          "metadata": {},
          "execution_count": 82
        }
      ]
    },
    {
      "cell_type": "markdown",
      "source": [
        "Выбираем певцов, приводим к lower-кейсу, убираем стоп-слова, токенизируем\n",
        "\n",
        "\n"
      ],
      "metadata": {
        "id": "ezCXwiFHkajj"
      }
    },
    {
      "cell_type": "code",
      "source": [
        "columns = data[['cantorNome', 'letra']]\n",
        "columns = columns[(columns.cantorNome == 'david-bowie') | (columns.cantorNome == 'paul-mccartney')]\n",
        "\n",
        "lowered = columns['letra'].str.lower()\n",
        "columns['lowered'] = lowered\n",
        "\n",
        "tokened = columns.apply(lambda row: nltk.word_tokenize(row['lowered']), axis=1)\n",
        "columns['tokened'] = tokened\n",
        "\n",
        "noise = stopwords.words('english')\n",
        "withoutstop = columns['tokened'].apply(lambda x: [item for item in x if item not in noise])\n",
        "without_stop = []\n",
        "for a in withoutstop:    \n",
        "    without_stop.append(\", \".join(a))\n",
        "    \n",
        "columns['without_stop'] = without_stop\n"
      ],
      "metadata": {
        "id": "rKlMOl-ckCzc"
      },
      "execution_count": null,
      "outputs": []
    },
    {
      "cell_type": "markdown",
      "source": [
        "Лемматизация"
      ],
      "metadata": {
        "id": "OIgm5cczkgYg"
      }
    },
    {
      "cell_type": "code",
      "source": [
        "lemmatized = columns['without_stop'].apply(lambda x: [lemmatizer.lemmatize(x)])\n",
        "lemma = []\n",
        "for a in lemmatized:    \n",
        "    lemma.append(\", \".join(a))\n",
        "    \n",
        "columns['lemmatized'] = lemma"
      ],
      "metadata": {
        "id": "L5kS0529khv6"
      },
      "execution_count": null,
      "outputs": []
    },
    {
      "cell_type": "markdown",
      "source": [
        "Разделим данные на обучающую и тестовые выборки\n",
        "\n",
        "x_train - тексты, на которых мы обучаем модель. В данном случае мы используем столбец lemmatized, так как он содержит данные, прошедшие все этапы подготовки\n",
        "\n",
        "y_train - жанры, соответствующие текстам, на которых модель обучается - столбец genre\n",
        "\n",
        "x_test - точно такие же тексты из набора данных, на которых мы будем проверять, насколько модель научилась предсказывать жанр\n",
        "\n",
        "y_test - жанры, соответствующие x_test. т.е. мы смотрим, насколько предсказания соответствуют содержимому этой переменной, чтобы оценить качество обучения\n",
        "\n",
        "Recall демонстрирует способность алгоритма обнаруживать данный класс вообще, precision — способность отличать этот класс от других классов, f1-score - среднее гармоническое precision и recall"
      ],
      "metadata": {
        "id": "Z5VW5a_ZkrCn"
      }
    },
    {
      "cell_type": "code",
      "source": [
        "x_train, x_test, y_train, y_test = train_test_split(columns.lemmatized, columns.cantorNome, train_size = 0.7)\n",
        "\n",
        "vectorizer = CountVectorizer(ngram_range=(1, 3))\n",
        "vectorized_x_train = vectorizer.fit_transform(x_train)\n"
      ],
      "metadata": {
        "id": "oaRMvkkPksEO"
      },
      "execution_count": null,
      "outputs": []
    },
    {
      "cell_type": "markdown",
      "source": [
        "Наиивный байесовский классификатор"
      ],
      "metadata": {
        "id": "BMIk6x_lk_5c"
      }
    },
    {
      "cell_type": "code",
      "source": [
        "clf = MultinomialNB()\n",
        "clf.fit(vectorized_x_train, y_train)\n",
        "vectorized_x_test = vectorizer.transform(x_test)\n",
        "clf.predict(vectorized_x_test)"
      ],
      "metadata": {
        "id": "qsDPclLRlKjr",
        "outputId": "c4ec7fcc-3896-46a7-e60c-2d9beeefbdbd",
        "colab": {
          "base_uri": "https://localhost:8080/"
        }
      },
      "execution_count": null,
      "outputs": [
        {
          "output_type": "execute_result",
          "data": {
            "text/plain": [
              "array(['david-bowie', 'paul-mccartney', 'paul-mccartney',\n",
              "       'paul-mccartney', 'paul-mccartney', 'paul-mccartney',\n",
              "       'paul-mccartney', 'david-bowie', 'paul-mccartney',\n",
              "       'paul-mccartney', 'david-bowie', 'david-bowie', 'david-bowie',\n",
              "       'david-bowie', 'david-bowie', 'david-bowie', 'paul-mccartney',\n",
              "       'paul-mccartney', 'david-bowie', 'david-bowie', 'paul-mccartney',\n",
              "       'david-bowie', 'david-bowie', 'paul-mccartney', 'paul-mccartney',\n",
              "       'david-bowie', 'david-bowie', 'david-bowie', 'david-bowie',\n",
              "       'david-bowie', 'paul-mccartney', 'david-bowie', 'david-bowie',\n",
              "       'david-bowie', 'paul-mccartney', 'paul-mccartney', 'david-bowie',\n",
              "       'paul-mccartney', 'david-bowie', 'david-bowie', 'paul-mccartney',\n",
              "       'david-bowie', 'paul-mccartney', 'paul-mccartney', 'david-bowie',\n",
              "       'david-bowie', 'david-bowie', 'paul-mccartney', 'david-bowie',\n",
              "       'david-bowie', 'david-bowie', 'david-bowie', 'paul-mccartney',\n",
              "       'david-bowie', 'david-bowie', 'paul-mccartney', 'paul-mccartney',\n",
              "       'paul-mccartney', 'paul-mccartney', 'david-bowie',\n",
              "       'paul-mccartney', 'paul-mccartney', 'paul-mccartney',\n",
              "       'paul-mccartney', 'david-bowie', 'david-bowie', 'david-bowie',\n",
              "       'paul-mccartney', 'paul-mccartney', 'paul-mccartney',\n",
              "       'paul-mccartney', 'paul-mccartney', 'paul-mccartney',\n",
              "       'david-bowie', 'paul-mccartney', 'paul-mccartney', 'david-bowie',\n",
              "       'paul-mccartney', 'paul-mccartney', 'paul-mccartney',\n",
              "       'paul-mccartney', 'david-bowie', 'paul-mccartney', 'david-bowie',\n",
              "       'david-bowie', 'paul-mccartney', 'paul-mccartney',\n",
              "       'paul-mccartney', 'paul-mccartney', 'paul-mccartney',\n",
              "       'david-bowie', 'david-bowie', 'paul-mccartney', 'david-bowie',\n",
              "       'paul-mccartney', 'paul-mccartney', 'david-bowie', 'david-bowie',\n",
              "       'paul-mccartney', 'paul-mccartney', 'david-bowie', 'david-bowie',\n",
              "       'david-bowie', 'david-bowie', 'paul-mccartney', 'paul-mccartney',\n",
              "       'david-bowie', 'david-bowie', 'david-bowie', 'david-bowie',\n",
              "       'david-bowie', 'paul-mccartney', 'paul-mccartney',\n",
              "       'paul-mccartney', 'paul-mccartney', 'paul-mccartney',\n",
              "       'paul-mccartney', 'david-bowie', 'david-bowie', 'paul-mccartney',\n",
              "       'david-bowie', 'david-bowie', 'david-bowie', 'paul-mccartney',\n",
              "       'david-bowie', 'david-bowie', 'david-bowie', 'paul-mccartney',\n",
              "       'david-bowie', 'david-bowie', 'paul-mccartney', 'paul-mccartney',\n",
              "       'paul-mccartney', 'david-bowie', 'david-bowie', 'paul-mccartney',\n",
              "       'david-bowie', 'david-bowie', 'paul-mccartney', 'david-bowie',\n",
              "       'paul-mccartney', 'david-bowie', 'paul-mccartney',\n",
              "       'paul-mccartney', 'paul-mccartney', 'paul-mccartney',\n",
              "       'david-bowie', 'david-bowie', 'david-bowie', 'paul-mccartney',\n",
              "       'david-bowie', 'david-bowie', 'paul-mccartney', 'david-bowie',\n",
              "       'david-bowie', 'david-bowie', 'paul-mccartney', 'david-bowie',\n",
              "       'paul-mccartney', 'paul-mccartney', 'david-bowie',\n",
              "       'paul-mccartney', 'paul-mccartney', 'paul-mccartney',\n",
              "       'david-bowie', 'david-bowie', 'david-bowie', 'david-bowie',\n",
              "       'david-bowie', 'david-bowie', 'david-bowie', 'paul-mccartney',\n",
              "       'david-bowie', 'paul-mccartney', 'paul-mccartney',\n",
              "       'paul-mccartney', 'david-bowie', 'david-bowie', 'david-bowie',\n",
              "       'david-bowie', 'paul-mccartney', 'paul-mccartney',\n",
              "       'paul-mccartney', 'paul-mccartney', 'paul-mccartney',\n",
              "       'david-bowie', 'paul-mccartney', 'david-bowie', 'paul-mccartney',\n",
              "       'paul-mccartney', 'paul-mccartney', 'david-bowie',\n",
              "       'paul-mccartney', 'david-bowie', 'david-bowie', 'david-bowie',\n",
              "       'david-bowie', 'david-bowie', 'paul-mccartney', 'david-bowie',\n",
              "       'paul-mccartney', 'paul-mccartney', 'david-bowie', 'david-bowie',\n",
              "       'paul-mccartney', 'paul-mccartney', 'paul-mccartney',\n",
              "       'david-bowie', 'david-bowie', 'paul-mccartney', 'paul-mccartney',\n",
              "       'paul-mccartney', 'paul-mccartney', 'david-bowie', 'david-bowie',\n",
              "       'paul-mccartney', 'paul-mccartney', 'david-bowie', 'david-bowie',\n",
              "       'paul-mccartney', 'paul-mccartney', 'paul-mccartney',\n",
              "       'david-bowie', 'david-bowie', 'paul-mccartney', 'david-bowie',\n",
              "       'paul-mccartney', 'david-bowie', 'david-bowie', 'david-bowie',\n",
              "       'david-bowie', 'david-bowie', 'david-bowie', 'paul-mccartney',\n",
              "       'david-bowie', 'paul-mccartney', 'paul-mccartney',\n",
              "       'paul-mccartney', 'paul-mccartney', 'david-bowie',\n",
              "       'paul-mccartney', 'paul-mccartney', 'paul-mccartney',\n",
              "       'paul-mccartney', 'david-bowie', 'david-bowie', 'david-bowie',\n",
              "       'paul-mccartney', 'david-bowie', 'paul-mccartney', 'david-bowie',\n",
              "       'paul-mccartney', 'paul-mccartney', 'david-bowie',\n",
              "       'paul-mccartney', 'david-bowie', 'david-bowie', 'paul-mccartney',\n",
              "       'paul-mccartney', 'david-bowie', 'david-bowie', 'david-bowie',\n",
              "       'david-bowie', 'paul-mccartney', 'david-bowie', 'david-bowie',\n",
              "       'paul-mccartney', 'paul-mccartney', 'paul-mccartney',\n",
              "       'david-bowie', 'david-bowie', 'david-bowie', 'david-bowie',\n",
              "       'david-bowie', 'paul-mccartney', 'david-bowie', 'david-bowie',\n",
              "       'david-bowie', 'paul-mccartney', 'paul-mccartney',\n",
              "       'paul-mccartney', 'paul-mccartney', 'david-bowie', 'david-bowie',\n",
              "       'paul-mccartney'], dtype='<U14')"
            ]
          },
          "metadata": {},
          "execution_count": 86
        }
      ]
    },
    {
      "cell_type": "markdown",
      "source": [
        "И, собственно, оценки классификации:"
      ],
      "metadata": {
        "id": "11MXJvkqlZDh"
      }
    },
    {
      "cell_type": "code",
      "source": [
        "print(classification_report(y_test, clf.predict(vectorized_x_test)))"
      ],
      "metadata": {
        "id": "lvLGOpY_lURl",
        "outputId": "97985074-c128-4d4d-ed6d-8534f4ebcfb2",
        "colab": {
          "base_uri": "https://localhost:8080/"
        }
      },
      "execution_count": null,
      "outputs": [
        {
          "output_type": "stream",
          "name": "stdout",
          "text": [
            "                precision    recall  f1-score   support\n",
            "\n",
            "   david-bowie       0.77      0.76      0.76       147\n",
            "paul-mccartney       0.75      0.75      0.75       138\n",
            "\n",
            "      accuracy                           0.76       285\n",
            "     macro avg       0.76      0.76      0.76       285\n",
            "  weighted avg       0.76      0.76      0.76       285\n",
            "\n"
          ]
        }
      ]
    }
  ]
}